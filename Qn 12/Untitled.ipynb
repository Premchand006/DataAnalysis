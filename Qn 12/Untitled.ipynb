{
 "cells": [
  {
   "cell_type": "code",
   "execution_count": 3,
   "id": "cc473575-d62a-4d28-9dac-368e581c228b",
   "metadata": {},
   "outputs": [
    {
     "name": "stdout",
     "output_type": "stream",
     "text": [
      "Regression coefficients:\n",
      "Intercept: -832446.40\n",
      "Year coefficient: 414.15\n",
      "Region (East=1) coefficient: -3773.80\n"
     ]
    }
   ],
   "source": [
    "import pandas as pd\n",
    "import matplotlib.pyplot as plt\n",
    "import seaborn as sns\n",
    "from sklearn.linear_model import LinearRegression\n",
    "\n",
    "# 1. Load and clean data\n",
    "file_path = r\"C:\\Users\\91944\\Desktop\\Research\\Crime\\All datasets\\cyber-crimes-from-ncrb-master-data-year-state-and-city-wise-total-number-of-cyber-crimes-committed-in-india.csv\"\n",
    "df = pd.read_csv(file_path)\n",
    "\n",
    "# Filter for 2018-2022, drop 'Total Cities', and drop missing states/values\n",
    "df = df[(df['year'] >= 2018) & (df['year'] <= 2022)]\n",
    "df = df[df['city'] != 'Total Cities']\n",
    "df = df.dropna(subset=['state', 'value'])\n",
    "\n",
    "# Assign regions\n",
    "western_states = ['Maharashtra', 'Gujarat', 'Rajasthan']\n",
    "eastern_states = ['West Bengal', 'Bihar', 'Odisha', 'Jharkhand']\n",
    "def get_region(state):\n",
    "    if state in western_states:\n",
    "        return 'West'\n",
    "    elif state in eastern_states:\n",
    "        return 'East'\n",
    "    else:\n",
    "        return None\n",
    "df['region'] = df['state'].apply(get_region)\n",
    "df = df[df['region'].notnull()]\n",
    "\n",
    "# 2. Choropleth-style bar chart: State cybercrime density\n",
    "state_totals = df.groupby('state')['value'].sum().sort_values(ascending=False)\n",
    "plt.figure(figsize=(10,6))\n",
    "sns.barplot(y=state_totals.index, x=state_totals.values, hue=state_totals.index, palette='viridis', legend=False)\n",
    "plt.title('Cybercrime Density (2018-2022) in Western & Eastern States')\n",
    "plt.xlabel('Total Cybercrimes')\n",
    "plt.ylabel('State')\n",
    "plt.tight_layout()\n",
    "plt.savefig('choropleth_density_proxy.png', dpi=300)\n",
    "plt.close()\n",
    "\n",
    "# 3. Scatterplot Matrix with Regression Lines\n",
    "pivot = df.pivot_table(index=['state','year'], values='value', aggfunc='sum').reset_index()\n",
    "sns.pairplot(pivot, hue='state', diag_kind='kde')\n",
    "plt.suptitle('Scatterplot Matrix of Cybercrimes by State and Year', y=1.02)\n",
    "plt.savefig('scatterplot_matrix.png', dpi=300)\n",
    "plt.close()\n",
    "\n",
    "# 4. Time Series Comparison with Regional Aggregation\n",
    "region_year = df.groupby(['region', 'year'])['value'].sum().reset_index()\n",
    "plt.figure(figsize=(8,5))\n",
    "sns.lineplot(data=region_year, x='year', y='value', hue='region', marker='o')\n",
    "plt.title('Time Series of Cybercrimes: West vs East (2018-2022)')\n",
    "plt.xlabel('Year')\n",
    "plt.ylabel('Total Cybercrimes')\n",
    "plt.tight_layout()\n",
    "plt.savefig('regional_timeseries.png', dpi=300)\n",
    "plt.close()\n",
    "\n",
    "# 5. Stacked Bar Chart of Cybercrime by Region (using cities as subgroups)\n",
    "stacked = df.groupby(['region', 'year', 'city'])['value'].sum().reset_index()\n",
    "pivot_stacked = stacked.pivot_table(index=['year','region'], columns='city', values='value', fill_value=0)\n",
    "pivot_stacked.plot(kind='bar', stacked=True, figsize=(14,7), colormap='tab20')\n",
    "plt.title('Stacked Bar Chart of Cybercrime Distribution by City (Grouped by Region)')\n",
    "plt.xlabel('Year, Region')\n",
    "plt.ylabel('Number of Cybercrimes')\n",
    "plt.tight_layout()\n",
    "plt.savefig('stacked_bar_by_region.png', dpi=300)\n",
    "plt.close()\n",
    "\n",
    "# 6. Multiple Regression Analysis\n",
    "reg_data = region_year.copy()\n",
    "reg_data['region_code'] = reg_data['region'].map({'West':0, 'East':1})\n",
    "X = reg_data[['year', 'region_code']]\n",
    "y = reg_data['value']\n",
    "model = LinearRegression()\n",
    "model.fit(X, y)\n",
    "print(\"Regression coefficients:\")\n",
    "print(f\"Intercept: {model.intercept_:.2f}\")\n",
    "print(f\"Year coefficient: {model.coef_[0]:.2f}\")\n",
    "print(f\"Region (East=1) coefficient: {model.coef_[1]:.2f}\")"
   ]
  },
  {
   "cell_type": "code",
   "execution_count": null,
   "id": "4415762a-44c7-45ee-aba6-50e5308c61a0",
   "metadata": {},
   "outputs": [],
   "source": []
  },
  {
   "cell_type": "code",
   "execution_count": null,
   "id": "97773225-9ee0-481c-8bb4-8102bc3a4ffa",
   "metadata": {},
   "outputs": [],
   "source": []
  }
 ],
 "metadata": {
  "kernelspec": {
   "display_name": "Python 3 (ipykernel)",
   "language": "python",
   "name": "python3"
  },
  "language_info": {
   "codemirror_mode": {
    "name": "ipython",
    "version": 3
   },
   "file_extension": ".py",
   "mimetype": "text/x-python",
   "name": "python",
   "nbconvert_exporter": "python",
   "pygments_lexer": "ipython3",
   "version": "3.12.4"
  }
 },
 "nbformat": 4,
 "nbformat_minor": 5
}
