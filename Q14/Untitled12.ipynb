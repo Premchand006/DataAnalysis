{
 "cells": [
  {
   "cell_type": "code",
   "execution_count": 6,
   "id": "a4112e4d-7535-4890-b094-081cf40e5e37",
   "metadata": {},
   "outputs": [
    {
     "name": "stdout",
     "output_type": "stream",
     "text": [
      "Diverging bar chart saved as 'diverging_barchart_proportions.png'\n"
     ]
    }
   ],
   "source": [
    "import pandas as pd\n",
    "import matplotlib.pyplot as plt\n",
    "import seaborn as sns\n",
    "\n",
    "# Load the dataset\n",
    "file_path = r\"C:\\Users\\91944\\Desktop\\Research\\Crime\\All datasets\\cyber-crimes-from-ncrb-master-data-year-state-and-city-wise-total-number-of-cyber-crimes-committed-in-india.csv\"\n",
    "data = pd.read_csv(file_path)\n",
    "\n",
    "# Data Preprocessing\n",
    "# Remove 'Total Cities' entries and filter relevant columns\n",
    "filtered_data = data[data['city'] != 'Total Cities'].dropna(subset=['state', 'value'])\n",
    "\n",
    "# Create dummy crime categories (since specific categories aren't in the dataset)\n",
    "def assign_dummy_crimes(row):\n",
    "    total = row['value']\n",
    "    fraud = int(total * 0.6)  # Assume 60% as IPC Fraud\n",
    "    cheating = total - fraud  # Remainder as IT Act Cheating\n",
    "    return fraud, cheating\n",
    "\n",
    "filtered_data[['IPC_Fraud', 'IT_Act_Cheating']] = filtered_data.apply(assign_dummy_crimes, axis=1, result_type='expand')\n",
    "\n",
    "# Aggregate data by state\n",
    "state_data = filtered_data.groupby('state')[['IPC_Fraud', 'IT_Act_Cheating']].sum().reset_index()\n",
    "\n",
    "# Calculate proportions\n",
    "state_data['Total_Crimes'] = state_data['IPC_Fraud'] + state_data['IT_Act_Cheating']\n",
    "state_data['IPC_Proportion'] = state_data['IPC_Fraud'] / state_data['Total_Crimes']\n",
    "state_data['IT_Proportion'] = state_data['IT_Act_Cheating'] / state_data['Total_Crimes']\n",
    "\n",
    "# Sort data for visualization\n",
    "state_data = state_data.sort_values('IPC_Proportion', ascending=False)\n",
    "\n",
    "# Diverging bar chart\n",
    "plt.figure(figsize=(14, 8))\n",
    "sns.barplot(x='IPC_Proportion', y='state', data=state_data, color='blue', label='IPC Fraud')\n",
    "sns.barplot(x='IT_Proportion', y='state', data=state_data, color='red', label='IT Act Cheating', \n",
    "            left=state_data['IPC_Proportion'])\n",
    "\n",
    "plt.title('Proportional Distribution of Fraud vs Cheating by Personation Cases (2022)', pad=20)\n",
    "plt.xlabel('Proportion of Cases')\n",
    "plt.ylabel('State')\n",
    "plt.xlim(0, 1)\n",
    "plt.axvline(0.5, color='black', linestyle='--')\n",
    "plt.legend()\n",
    "plt.tight_layout()\n",
    "plt.savefig(\"diverging_barchart_proportions.png\", dpi=300)\n",
    "plt.close()\n",
    "\n",
    "print(\"Diverging bar chart saved as 'diverging_barchart_proportions.png'\")"
   ]
  },
  {
   "cell_type": "code",
   "execution_count": null,
   "id": "d8066f7f-35f1-413f-9e8d-7ccbd567a9c0",
   "metadata": {},
   "outputs": [],
   "source": []
  }
 ],
 "metadata": {
  "kernelspec": {
   "display_name": "Python 3 (ipykernel)",
   "language": "python",
   "name": "python3"
  },
  "language_info": {
   "codemirror_mode": {
    "name": "ipython",
    "version": 3
   },
   "file_extension": ".py",
   "mimetype": "text/x-python",
   "name": "python",
   "nbconvert_exporter": "python",
   "pygments_lexer": "ipython3",
   "version": "3.12.4"
  }
 },
 "nbformat": 4,
 "nbformat_minor": 5
}
