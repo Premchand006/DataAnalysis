{
 "cells": [
  {
   "cell_type": "code",
   "execution_count": 1,
   "id": "22302903-31d1-43db-979e-acd8e5c2417f",
   "metadata": {},
   "outputs": [
    {
     "name": "stdout",
     "output_type": "stream",
     "text": [
      "Line graph saved as 'line_graph_kolkata_vs_metros.png'.\n",
      "Box plot saved as 'boxplot_kolkata_vs_metros.png'.\n"
     ]
    }
   ],
   "source": [
    "import pandas as pd\n",
    "import matplotlib.pyplot as plt\n",
    "import seaborn as sns\n",
    "\n",
    "# Load the dataset from the provided file path\n",
    "file_path = r\"C:\\Users\\91944\\Desktop\\Research\\Crime\\All datasets\\cyber-crimes-from-ncrb-master-data-year-state-and-city-wise-total-number-of-cyber-crimes-committed-in-india.csv\"\n",
    "data = pd.read_csv(file_path)\n",
    "\n",
    "# Data Preprocessing\n",
    "# Filter data for Kolkata and other major metros\n",
    "selected_cities = ['Kolkata', 'Mumbai', 'Delhi', 'Bengaluru', 'Chennai']\n",
    "filtered_data = data[data['city'].isin(selected_cities)].copy()\n",
    "\n",
    "# Drop rows with missing values\n",
    "filtered_data = filtered_data.dropna(subset=['year', 'city', 'value'])\n",
    "\n",
    "# Convert year to datetime for time series analysis\n",
    "filtered_data['year'] = pd.to_datetime(filtered_data['year'], format='%Y')\n",
    "\n",
    "# Pivot data for line graph visualization (years as index, cities as columns)\n",
    "pivot_data = filtered_data.pivot(index='year', columns='city', values='value')\n",
    "\n",
    "# Visualization 1: Line graph showing yearly fluctuations in Kolkata vs other cities\n",
    "plt.figure(figsize=(14, 6))\n",
    "for city in selected_cities:\n",
    "    plt.plot(pivot_data.index, pivot_data[city], label=city)\n",
    "plt.title(\"Yearly Cybercrime Trends: Kolkata vs Other Major Metros\")\n",
    "plt.xlabel(\"Year\")\n",
    "plt.ylabel(\"Number of Cybercrimes\")\n",
    "plt.legend()\n",
    "plt.grid(True)\n",
    "plt.tight_layout()\n",
    "plt.savefig(\"line_graph_kolkata_vs_metros.png\", dpi=300)\n",
    "plt.close()\n",
    "print(\"Line graph saved as 'line_graph_kolkata_vs_metros.png'.\")\n",
    "\n",
    "# Add a column for city-wise volatility (standard deviation of yearly values)\n",
    "volatility_data = filtered_data.groupby('city')['value'].std().reset_index()\n",
    "volatility_data.columns = ['City', 'Volatility']\n",
    "\n",
    "# Visualization 2: Box plot to illustrate extreme crime variations in Kolkata vs others\n",
    "plt.figure(figsize=(12, 6))\n",
    "sns.boxplot(x='city', y='value', data=filtered_data[filtered_data['city'].isin(selected_cities)])\n",
    "plt.title(\"Cybercrime Variations: Kolkata vs Other Major Metros\")\n",
    "plt.xlabel(\"City\")\n",
    "plt.ylabel(\"Number of Cybercrimes\")\n",
    "plt.xticks(rotation=45)\n",
    "plt.tight_layout()\n",
    "plt.savefig(\"boxplot_kolkata_vs_metros.png\", dpi=300)\n",
    "plt.close()\n",
    "print(\"Box plot saved as 'boxplot_kolkata_vs_metros.png'.\")\n"
   ]
  }
 ],
 "metadata": {
  "kernelspec": {
   "display_name": "Python 3 (ipykernel)",
   "language": "python",
   "name": "python3"
  },
  "language_info": {
   "codemirror_mode": {
    "name": "ipython",
    "version": 3
   },
   "file_extension": ".py",
   "mimetype": "text/x-python",
   "name": "python",
   "nbconvert_exporter": "python",
   "pygments_lexer": "ipython3",
   "version": "3.12.4"
  }
 },
 "nbformat": 4,
 "nbformat_minor": 5
}
