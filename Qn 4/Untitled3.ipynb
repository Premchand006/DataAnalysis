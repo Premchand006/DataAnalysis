{
 "cells": [
  {
   "cell_type": "code",
   "execution_count": 3,
   "id": "28311718-8329-46f9-8288-2407b2988269",
   "metadata": {},
   "outputs": [
    {
     "name": "stdout",
     "output_type": "stream",
     "text": [
      "Classification Report:\n",
      "              precision    recall  f1-score   support\n",
      "\n",
      "           0       1.00      1.00      1.00         2\n",
      "           1       1.00      1.00      1.00         4\n",
      "\n",
      "    accuracy                           1.00         6\n",
      "   macro avg       1.00      1.00      1.00         6\n",
      "weighted avg       1.00      1.00      1.00         6\n",
      "\n",
      "Accuracy Score: 1.0\n",
      "Before-after bar chart saved as 'before_after_bar_chart.png'.\n",
      "Heatmap saved as 'percentage_change_heatmap.png'.\n"
     ]
    },
    {
     "data": {
      "text/plain": [
       "<Figure size 1400x600 with 0 Axes>"
      ]
     },
     "metadata": {},
     "output_type": "display_data"
    }
   ],
   "source": [
    "import pandas as pd\n",
    "import numpy as np\n",
    "from sklearn.svm import SVC\n",
    "from sklearn.model_selection import train_test_split\n",
    "from sklearn.metrics import classification_report, accuracy_score\n",
    "import matplotlib.pyplot as plt\n",
    "import seaborn as sns\n",
    "\n",
    "# Load the dataset from the provided file path\n",
    "file_path = r\"C:\\Users\\91944\\Desktop\\Research\\Crime\\All datasets\\cyber-crimes-from-ncrb-master-data-year-state-and-city-wise-total-number-of-cyber-crimes-committed-in-india.csv\"\n",
    "data = pd.read_csv(file_path)\n",
    "\n",
    "# Data Preprocessing\n",
    "# Filter relevant years (2019–2021) for analysis\n",
    "filtered_data = data[data['year'].isin([2019, 2020, 2021])].copy()\n",
    "\n",
    "# Drop rows with missing values in 'city' or 'value'\n",
    "filtered_data = filtered_data.dropna(subset=['city', 'value'])\n",
    "\n",
    "# Remove \"Total Cities\" entry for meaningful city-level analysis\n",
    "filtered_data = filtered_data[filtered_data['city'] != 'Total Cities']\n",
    "\n",
    "# Pivot data for easier comparison of cybercrime rates across years\n",
    "pivot_data = filtered_data.pivot(index='city', columns='year', values='value').fillna(0)\n",
    "\n",
    "# Rename columns to ensure they are strings (if necessary)\n",
    "pivot_data.columns = pivot_data.columns.astype(str)\n",
    "\n",
    "# Calculate percentage change in cybercrime rates between 2019 and 2021\n",
    "pivot_data['Percentage Change'] = ((pivot_data['2021'] - pivot_data['2019']) / pivot_data['2019']) * 100\n",
    "\n",
    "# Prepare data for SVM classification\n",
    "X = pivot_data[['2019', '2020', '2021']].values  # Features: cybercrime rates over three years\n",
    "y = (pivot_data['Percentage Change'] > 0).astype(int)  # Target: Positive change (1) or negative/no change (0)\n",
    "\n",
    "# Split data into training and testing sets\n",
    "X_train, X_test, y_train, y_test = train_test_split(X, y, test_size=0.3, random_state=42)\n",
    "\n",
    "# Train SVM classifier\n",
    "svm_model = SVC(kernel='linear', random_state=42)\n",
    "svm_model.fit(X_train, y_train)\n",
    "\n",
    "# Make predictions and evaluate the model\n",
    "y_pred = svm_model.predict(X_test)\n",
    "print(\"Classification Report:\")\n",
    "print(classification_report(y_test, y_pred))\n",
    "print(\"Accuracy Score:\", accuracy_score(y_test, y_pred))\n",
    "\n",
    "# Visualization: Before-after bar chart for pre-pandemic (2019) vs post-pandemic (2021)\n",
    "plt.figure(figsize=(14, 6))\n",
    "pivot_data[['2019', '2021']].sort_values(by='2021', ascending=False).plot(kind='bar', figsize=(14, 6), width=0.8)\n",
    "plt.title(\"Cybercrime Rates: Pre-Pandemic (2019) vs Post-Pandemic (2021)\")\n",
    "plt.xlabel(\"Cities\")\n",
    "plt.ylabel(\"Number of Cybercrimes\")\n",
    "plt.xticks(rotation=45, ha=\"right\")\n",
    "plt.tight_layout()\n",
    "plt.savefig(\"before_after_bar_chart.png\", dpi=300)\n",
    "plt.close()\n",
    "print(\"Before-after bar chart saved as 'before_after_bar_chart.png'.\")\n",
    "\n",
    "# Visualization: Heatmap for percentage change in cybercrime rates (2019–2021)\n",
    "plt.figure(figsize=(12, 8))\n",
    "sns.heatmap(pivot_data[['Percentage Change']].sort_values(by='Percentage Change', ascending=False), annot=True, cmap=\"coolwarm\", fmt=\".2f\")\n",
    "plt.title(\"Percentage Change in Cybercrime Rates (2019–2021)\")\n",
    "plt.xlabel(\"Year\")\n",
    "plt.ylabel(\"Cities\")\n",
    "plt.tight_layout()\n",
    "plt.savefig(\"percentage_change_heatmap.png\", dpi=300)\n",
    "plt.close()\n",
    "print(\"Heatmap saved as 'percentage_change_heatmap.png'.\")\n"
   ]
  },
  {
   "cell_type": "code",
   "execution_count": null,
   "id": "a004f533-853c-420d-8f39-4eab9e1f81ec",
   "metadata": {},
   "outputs": [],
   "source": []
  }
 ],
 "metadata": {
  "kernelspec": {
   "display_name": "Python 3 (ipykernel)",
   "language": "python",
   "name": "python3"
  },
  "language_info": {
   "codemirror_mode": {
    "name": "ipython",
    "version": 3
   },
   "file_extension": ".py",
   "mimetype": "text/x-python",
   "name": "python",
   "nbconvert_exporter": "python",
   "pygments_lexer": "ipython3",
   "version": "3.12.4"
  }
 },
 "nbformat": 4,
 "nbformat_minor": 5
}
